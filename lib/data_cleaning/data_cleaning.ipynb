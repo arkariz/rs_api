{
 "cells": [
  {
   "cell_type": "code",
   "execution_count": 22,
   "metadata": {},
   "outputs": [],
   "source": [
    "# General data analysis/plotting\n",
    "import pandas as pd\n",
    "import numpy as np\n",
    "\n",
    "df = pd.read_excel(\"data_baru.xlsx\")\n",
    "df = df[(df['DIAGLIST'].str.contains(\"A09.9\") & (df['DIAGLIST'].str.contains(\"A90\")))]\n",
    "df.co\n",
    "# df['DIAGLIST'].value_counts().to_frame().to_excel(\"most.xlsx\")"
   ]
  },
  {
   "cell_type": "code",
   "execution_count": 46,
   "metadata": {},
   "outputs": [],
   "source": [
    "# General data analysis/plotting\n",
    "import pandas as pd\n",
    "import numpy as np\n",
    "\n",
    "df = pd.read_excel(\"data_baru.xlsx\")\n",
    "df = df[[\n",
    "    \"NOKARTU\",\n",
    "    \"KELAS_RAWAT\",\n",
    "    \"SEX\",\n",
    "    \"LAMA_DIRAWAT\",\n",
    "    \"UMUR_TAHUN\",\n",
    "    \"Diagnosis\",\n",
    "    \"Tindakan\",\n",
    "    \"INACBG\",\n",
    "    \"SUBACUTE\",\n",
    "    \"CHRONIC\",\n",
    "    \"SP\",\n",
    "    \"SR\",\n",
    "    \"SI\",\n",
    "    \"SD\",\n",
    "    \"TARIF_INACBG\",\n",
    "    \"TARIF_RS\",\n",
    "    \"PROSEDUR_NON_BEDAH\",\n",
    "    \"PROSEDUR_BEDAH\",\n",
    "    \"KONSULTASI\",\n",
    "    \"TENAGA_AHLI\",\n",
    "    \"KEPERAWATAN\",\n",
    "    \"PENUNJANG\",\n",
    "    \"RADIOLOGI\",\n",
    "    \"LABORATORIUM\",\n",
    "    \"PELAYANAN_DARAH\",\n",
    "    \"REHABILITASI\",\n",
    "    \"KAMAR_AKOMODASI\",\n",
    "    \"RAWAT_INTENSIF\",\n",
    "    \"OBAT\",\n",
    "    \"ALKES\",\n",
    "    \"BMHP\",\n",
    "    \"SEWA_ALAT\",\n",
    "    \"OBAT_KRONIS\",\n",
    "    \"OBAT_KEMO\"\n",
    "]]\n",
    "\n",
    "df.fillna(\"-\", inplace=True)\n",
    "df.replace(\"\", \"-\", inplace=True)\n",
    "\n",
    "\n",
    "df = df[(df['Diagnosis'].str.startswith(\"A09.9\") | (df['Diagnosis'].str.startswith(\"A90\")))]\n",
    "df.to_excel(\"data_clean.xlsx\")"
   ]
  }
 ],
 "metadata": {
  "kernelspec": {
   "display_name": "rs_api",
   "language": "python",
   "name": "python3"
  },
  "language_info": {
   "codemirror_mode": {
    "name": "ipython",
    "version": 3
   },
   "file_extension": ".py",
   "mimetype": "text/x-python",
   "name": "python",
   "nbconvert_exporter": "python",
   "pygments_lexer": "ipython3",
   "version": "3.10.8"
  },
  "orig_nbformat": 4
 },
 "nbformat": 4,
 "nbformat_minor": 2
}
